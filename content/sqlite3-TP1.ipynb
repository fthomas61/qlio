{
 "cells": [
  {
   "cell_type": "markdown",
   "metadata": {},
   "source": [
    "# Connexion python <-> base de données\n"
   ]
  },
  {
   "cell_type": "code",
   "execution_count": 2,
   "metadata": {},
   "outputs": [],
   "source": [
    "import sqlite3\n",
    "\n",
    "#db = \"Z:\\Bureau\\qliotify.db\"\n",
    "db = \"/home/fthomas/iut/QLIO2/M3105/musique/conception-1/qliotify.db\"\n",
    "\n",
    "# Connexion à la base (db)\n",
    "connexion = sqlite3.connect(db)\n",
    "\n",
    "# Création d'un curseur\n",
    "curseur = connexion.cursor()"
   ]
  },
  {
   "cell_type": "code",
   "execution_count": 5,
   "metadata": {},
   "outputs": [
    {
     "name": "stdout",
     "output_type": "stream",
     "text": [
      "Nombre total de caractères 613\n"
     ]
    }
   ],
   "source": [
    "# Fabrication du texte de la requête\n",
    "sql = \"\"\"\n",
    "      SELECT * FROM Artistes\n",
    "      \"\"\"\n",
    "sql = \"\"\"\n",
    "      SELECT nom,prenom FROM Artistes LIMIT 5\n",
    "      \"\"\"\n",
    "sql = \"\"\"\n",
    "      SELECT nom,dominant_en FROM Genres ORDER BY dominant_en\n",
    "      \"\"\"\n",
    "sql = \"\"\"\n",
    "      SELECT prenom,nom FROM Artistes ORDER BY nom LIMIT 10\n",
    "      \"\"\"\n",
    "sql = \"\"\"\n",
    "      SELECT nom FROM Artistes ORDER BY nom\n",
    "      \"\"\"\n",
    "# Exécution de la requête\n",
    "curseur.execute(sql)\n",
    "\n",
    "# Les résultats:\n",
    "resultats = curseur.fetchall()\n",
    "\n",
    "# On scrute/traite les résultats\n",
    "n = 0\n",
    "for l in resultats:\n",
    "    #print(\"Avant\",l[0],len(l[0]),\"n vaut\",n)\n",
    "    n = n + len(l[0])\n",
    "    #print(\"Apres n vaut\",n)\n",
    "\n",
    "print(\"Nombre total de caractères\",n)"
   ]
  },
  {
   "cell_type": "code",
   "execution_count": 20,
   "metadata": {},
   "outputs": [
    {
     "name": "stdout",
     "output_type": "stream",
     "text": [
      "Il y a 1000 titres dans la base QLIOtify\n",
      "Vous allez écouter ligula consectetuer rhoncus. Nullam\n",
      "Ce morceau est en espagnol\n",
      "Sa durée est de 216 secondes.\n",
      "Son bpm est de 89 battements par minute.\n"
     ]
    }
   ],
   "source": [
    "import random\n",
    "\n",
    "# La requête qui permet de connaitre le nombre de titres présents dans la base\n",
    "sql = \"\"\"\n",
    "      SELECT COUNT(*) FROM Titres\n",
    "      \"\"\"\n",
    "curseur.execute(sql)\n",
    "# Les résultats\n",
    "resultats = curseur.fetchall()\n",
    "\n",
    "#print(resultats)\n",
    "\n",
    "for ligne in resultats:\n",
    "    # ligne = (1000,)\n",
    "    #print(ligne)\n",
    "    ntitres = ligne[0]\n",
    "\n",
    "print(\"Il y a\",ntitres,\"titres dans la base QLIOtify\")\n",
    "letitre = random.randint(1,ntitres)\n",
    "\n",
    "sql = \"SELECT nom,langue,duree,bpm FROM Titres WHERE id=\"\n",
    "sql = sql+str(letitre)\n",
    "#print(sql)\n",
    "\n",
    "curseur.execute(sql)\n",
    "resultats = curseur.fetchall()\n",
    "\n",
    "for ligne in resultats:\n",
    "    #print(ligne)\n",
    "    print(\"Vous allez écouter\",ligne[0])\n",
    "    print(\"Ce morceau est en\",ligne[1])\n",
    "    print(\"Sa durée est de\",ligne[2],\"secondes.\")\n",
    "    print(\"Son bpm est de\",ligne[3],\"battements par minute.\")\n",
    "\n",
    "from pygame import mixer\n",
    "mixer.init()\n",
    "mixer.music.load(r'/home/fthomas/Downloads/file_example_WAV_1MG.wav') # you may use .mp3 but support is limited\n",
    "mixer.music.play()\n",
    "    "
   ]
  },
  {
   "cell_type": "code",
   "execution_count": null,
   "metadata": {},
   "outputs": [],
   "source": []
  }
 ],
 "metadata": {
  "kernelspec": {
   "display_name": "Python 3",
   "language": "python",
   "name": "python3"
  },
  "language_info": {
   "codemirror_mode": {
    "name": "ipython",
    "version": 3
   },
   "file_extension": ".py",
   "mimetype": "text/x-python",
   "name": "python",
   "nbconvert_exporter": "python",
   "pygments_lexer": "ipython3",
   "version": "3.6.4"
  }
 },
 "nbformat": 4,
 "nbformat_minor": 2
}
