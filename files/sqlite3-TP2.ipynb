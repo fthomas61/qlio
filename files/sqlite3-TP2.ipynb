{
 "cells": [
  {
   "cell_type": "markdown",
   "metadata": {},
   "source": [
    "# Connexion python <-> base de données\n"
   ]
  },
  {
   "cell_type": "code",
   "execution_count": 1,
   "metadata": {},
   "outputs": [],
   "source": [
    "import sqlite3\n",
    "\n",
    "#db = \"Z:\\Bureau\\qliotify.db\"\n",
    "db = \"/home/fthomas/iut/QLIO2/M3105/musique/conception-1/qliotify.db\"\n",
    "\n",
    "# Connexion à la base (db)\n",
    "connexion = sqlite3.connect(db)\n",
    "\n",
    "# Création d'un curseur\n",
    "curseur = connexion.cursor()"
   ]
  },
  {
   "cell_type": "code",
   "execution_count": 7,
   "metadata": {},
   "outputs": [
    {
     "name": "stdout",
     "output_type": "stream",
     "text": [
      "Nombre total de caractères 613\n"
     ]
    }
   ],
   "source": [
    "# Fabrication du texte de la requête\n",
    "sql = \"\"\"\n",
    "      SELECT * FROM Artistes\n",
    "      \"\"\"\n",
    "sql = \"\"\"\n",
    "      SELECT nom,prenom FROM Artistes LIMIT 5\n",
    "      \"\"\"\n",
    "sql = \"\"\"\n",
    "      SELECT nom,dominant_en FROM Genres ORDER BY dominant_en\n",
    "      \"\"\"\n",
    "sql = \"\"\"\n",
    "      SELECT prenom,nom FROM Artistes ORDER BY nom LIMIT 10\n",
    "      \"\"\"\n",
    "sql = \"\"\"\n",
    "      SELECT nom,pays FROM Artistes ORDER BY nom\n",
    "      \"\"\"\n",
    "# Exécution de la requête\n",
    "curseur.execute(sql)\n",
    "# Les résultats:\n",
    "resultats = curseur.fetchall()\n",
    "\n",
    "# On scrute/traite les résultats\n",
    "n = 0\n",
    "for l in resultats:\n",
    "    #print(\"L'artiste\",l[0],\"est né en\",l[1])\n",
    "    #print(\"Avant de traiter\",l[0],\"de longueur\",len(l[0]),\"n vallait\",n)\n",
    "    n = n + len(l[0])\n",
    "    #print(\"Apres n vaut\",n)\n",
    "\n",
    "print(\"Nombre total de caractères\",n)"
   ]
  },
  {
   "cell_type": "code",
   "execution_count": 17,
   "metadata": {
    "scrolled": true
   },
   "outputs": [
    {
     "name": "stdout",
     "output_type": "stream",
     "text": [
      "Veuillez entrer le nom (approximatif) du morceau que vous souhaitez écouter :ipsum.\n",
      "Vous allez maintenant écouter sollicitudin commodo ipsum. Suspendisse\n",
      "Vous comprenez bien sûr le italien\n",
      "La durée est de 144 secondes.\n",
      "Avec un bpm de 184 battements par minute.\n",
      "\n",
      "Vous allez maintenant écouter ipsum. Suspendisse sagittis. Nullam\n",
      "Vous comprenez bien sûr le bambara\n",
      "La durée est de 406 secondes.\n",
      "Avec un bpm de 162 battements par minute.\n",
      "\n",
      "Vous allez maintenant écouter ornare, facilisis eget, ipsum.\n",
      "Vous comprenez bien sûr le japonais\n",
      "La durée est de 471 secondes.\n",
      "Avec un bpm de 70 battements par minute.\n",
      "\n",
      "Vous allez maintenant écouter facilisis eget, ipsum.\n",
      "Vous comprenez bien sûr le espagnol\n",
      "La durée est de 523 secondes.\n",
      "Avec un bpm de 91 battements par minute.\n",
      "\n",
      "Vous allez maintenant écouter eget, ipsum.\n",
      "Vous comprenez bien sûr le wolof\n",
      "La durée est de 583 secondes.\n",
      "Avec un bpm de 68 battements par minute.\n",
      "\n",
      "Vous allez maintenant écouter ac ipsum.\n",
      "Vous comprenez bien sûr le italien\n",
      "La durée est de 381 secondes.\n",
      "Avec un bpm de 199 battements par minute.\n",
      "\n",
      "Vous allez maintenant écouter augue ac ipsum.\n",
      "Vous comprenez bien sûr le espagnol\n",
      "La durée est de 109 secondes.\n",
      "Avec un bpm de 108 battements par minute.\n",
      "\n"
     ]
    }
   ],
   "source": [
    "# Demander à l'utilisateur sa recherche\n",
    "titre = input('Veuillez entrer le nom (approximatif) du morceau que vous souhaitez écouter :')\n",
    "\n",
    "sql = \"SELECT nom,langue,duree,bpm FROM Titres WHERE nom LIKE '%\"+titre+\"%'\"\n",
    "#print(sql)\n",
    "\n",
    "curseur.execute(sql)\n",
    "tracks = curseur.fetchall()\n",
    "\n",
    "for track in tracks:\n",
    "    print(\"Vous allez maintenant écouter\",track[0])\n",
    "    print(\"Vous comprenez bien sûr le\",track[1])\n",
    "    print('La durée est de',track[2],\"secondes.\")\n",
    "    print('Avec un bpm de',track[3],\"battements par minute.\")\n",
    "    print()\n",
    "\n",
    "\n",
    "\n",
    "\n"
   ]
  },
  {
   "cell_type": "code",
   "execution_count": 18,
   "metadata": {},
   "outputs": [],
   "source": [
    "from PIL import Image\n",
    "im = Image.open('images/image4.jpg')\n",
    "im.show()"
   ]
  },
  {
   "cell_type": "code",
   "execution_count": 22,
   "metadata": {},
   "outputs": [],
   "source": [
    "def requete(curseur,sql):\n",
    "    curseur.execute(sql)\n",
    "    return curseur.fetchall()"
   ]
  },
  {
   "cell_type": "code",
   "execution_count": 26,
   "metadata": {},
   "outputs": [
    {
     "name": "stdout",
     "output_type": "stream",
     "text": [
      "A l'instant t, il y a 1000 titres dans la base.\n",
      "Vous allez entendre le titre numero 509\n",
      "Vous allez maintenant écouter augue ac ipsum.\n",
      "Vous comprenez bien sûr le espagnol\n",
      "La durée est de 109 secondes.\n",
      "Avec un bpm de 108 battements par minute.\n",
      "\n"
     ]
    }
   ],
   "source": [
    "import random\n",
    "\n",
    "# Il faut déterminer le nombre de titres disponibles\n",
    "sql = \"SELECT COUNT(*) FROM Titres\"\n",
    "resultats = requete(curseur,sql)\n",
    "\n",
    "for l in resultats:\n",
    "    n = l[0]\n",
    "\n",
    "print(\"A l'instant t, il y a\",n, \"titres dans la base.\")    \n",
    "\n",
    "# On choisit un numéro de titre au hasard entre 1 et le nombre de titres\n",
    "alea = random.randint(1,n)\n",
    "print(\"Vous allez entendre le titre numero\",alea)\n",
    "\n",
    "# Il faut aller chercher les informations relatives au titre de numéro : alea\n",
    "sql = \"SELECT nom,langue,duree,bpm FROM Titres WHERE id=\"+str(alea)\n",
    "titres = requete(curseur,sql)\n",
    "\n",
    "# Voici les informations relatives à ce titre\n",
    "for titre in titres:\n",
    "    print(\"Vous allez maintenant écouter\",track[0])\n",
    "    print(\"Vous comprenez bien sûr le\",track[1])\n",
    "    print('La durée est de',track[2],\"secondes.\")\n",
    "    print('Avec un bpm de',track[3],\"battements par minute.\")\n",
    "    print()\n"
   ]
  },
  {
   "cell_type": "code",
   "execution_count": 19,
   "metadata": {},
   "outputs": [
    {
     "name": "stdout",
     "output_type": "stream",
     "text": [
      "A l'instant t, il y a 1000 titres dans la base.\n",
      "Il y a 1000 titres dans la base QLIOtify\n",
      "Vous allez écouter ipsum cursus vestibulum.\n",
      "Ce morceau est en japonais\n",
      "Sa durée est de 324 secondes.\n",
      "Son bpm est de 124 battements par minute.\n"
     ]
    }
   ],
   "source": [
    "\n",
    "\n",
    "\n",
    "\n",
    "\n",
    "\n",
    "\n",
    "\n",
    "\n",
    "\n",
    "\n",
    "\n",
    "\n",
    "\n",
    "\n",
    "\n",
    "\n",
    "import random\n",
    "\n",
    "# La requête qui permet de connaitre le nombre de titres présents dans la base\n",
    "sql = \"\"\"\n",
    "      SELECT COUNT(*) FROM Titres\n",
    "      \"\"\"\n",
    "curseur.execute(sql)\n",
    "# Les résultats\n",
    "resultats = curseur.fetchall()\n",
    "\n",
    "#print(resultats)\n",
    "\n",
    "for ligne in resultats:\n",
    "    # ligne = (1000,)\n",
    "    #print(ligne)\n",
    "    ntitres = ligne[0]\n",
    "\n",
    "print(\"Il y a\",ntitres,\"titres dans la base QLIOtify\")\n",
    "letitre = random.randint(1,ntitres)\n",
    "\n",
    "sql = \"SELECT nom,langue,duree,bpm FROM Titres WHERE id=\"\n",
    "sql = sql+str(letitre)\n",
    "#print(sql)\n",
    "\n",
    "curseur.execute(sql)\n",
    "resultats = curseur.fetchall()\n",
    "\n",
    "for ligne in resultats:\n",
    "    #print(ligne)\n",
    "    print(\"Vous allez écouter\",ligne[0])\n",
    "    print(\"Ce morceau est en\",ligne[1])\n",
    "    print(\"Sa durée est de\",ligne[2],\"secondes.\")\n",
    "    print(\"Son bpm est de\",ligne[3],\"battements par minute.\")\n",
    "\n",
    "from pygame import mixer\n",
    "mixer.init()\n",
    "mixer.music.load(r'/home/fthomas/Downloads/file_example_WAV_1MG.wav') # you may use .mp3 but support is limited\n",
    "mixer.music.play()\n",
    "    "
   ]
  },
  {
   "cell_type": "code",
   "execution_count": 14,
   "metadata": {},
   "outputs": [],
   "source": [
    "from PIL import Image, ImageDraw\n",
    "\n",
    "collage = Image.new(\"RGBA\", (300,300), color=(255,255,255,255))\n",
    "lst = [0, 1, 2, 3, 80, 100, 120, 150, 180, 200]\n",
    "\n",
    "c=1\n",
    "for i in range(0,300,50):\n",
    "    for j in range(0,300,50):\n",
    "        file = \"images/image\"+str(c)+\".jpg\"\n",
    "        photo = Image.open(file).convert(\"RGBA\")\n",
    "        photo = photo.resize((50,50))\n",
    "\n",
    "        collage.paste(photo, (i,j))\n",
    "        c+=1\n",
    "collage.show()\n"
   ]
  },
  {
   "cell_type": "code",
   "execution_count": null,
   "metadata": {},
   "outputs": [],
   "source": []
  }
 ],
 "metadata": {
  "kernelspec": {
   "display_name": "Python 3",
   "language": "python",
   "name": "python3"
  },
  "language_info": {
   "codemirror_mode": {
    "name": "ipython",
    "version": 3
   },
   "file_extension": ".py",
   "mimetype": "text/x-python",
   "name": "python",
   "nbconvert_exporter": "python",
   "pygments_lexer": "ipython3",
   "version": "3.6.4"
  }
 },
 "nbformat": 4,
 "nbformat_minor": 2
}
